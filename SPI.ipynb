{
 "cells": [
  {
   "cell_type": "code",
   "execution_count": 1,
   "id": "initial_id",
   "metadata": {
    "collapsed": true,
    "ExecuteTime": {
     "end_time": "2024-03-27T12:25:10.795605300Z",
     "start_time": "2024-03-27T12:24:22.234586100Z"
    }
   },
   "outputs": [],
   "source": [
    "import numpy as np\n",
    "import pandas as pd\n",
    "import scipy as sp\n",
    "import matplotlib as mpl\n",
    "import matplotlib.pyplot as plt\n",
    "import seaborn as sns\n",
    "import geopandas as gpd\n",
    "from shapely.geometry import Point"
   ]
  },
  {
   "cell_type": "code",
   "execution_count": 3,
   "outputs": [
    {
     "data": {
      "text/plain": "            ID              Nazwa                Rzeka Szerokość geograficzna  \\\nLP.                                                                             \n1    250180590     RYBNIK-STODOŁY                 Ruda               50 09 16   \n2    254140010            DZIWNÓW                  NaN               54 01 20   \n3    250160530          ZIELENIEC  Bystrzyca Dusznicka               50 19 48   \n4    250160630        MIĘDZYGÓRZE              Wilczka               50 13 06   \n5    250160650        MIĘDZYLESIE         Nysa Kłodzka               50 09 12   \n..         ...                ...                  ...                    ...   \n637  250140020          SIENIAWKA         Nysa Łużycka               50 53 38   \n638  250160920       PIŁAWA GÓRNA               Piława               50 41 22   \n639  249180590            RUPTAWA                 Olza               49 56 12   \n640  250180760  STRZELCE OPOLSKIE           Mała Panew               50 31 04   \n641  252140120             BOCZÓW               Rzepia               52 19 29   \n\n    Długość geograficzna Wysokość n.p.m.  \nLP.                                       \n1               18 28 59             216  \n2               14 43 54               7  \n3               16 23 39             840  \n4               16 46 23             800  \n5               16 40 15             453  \n..                   ...             ...  \n637             14 50 08             234  \n638             16 43 57             295  \n639             18 35 22             230  \n640             18 18 40             229  \n641             14 56 56              80  \n\n[641 rows x 6 columns]",
      "text/html": "<div>\n<style scoped>\n    .dataframe tbody tr th:only-of-type {\n        vertical-align: middle;\n    }\n\n    .dataframe tbody tr th {\n        vertical-align: top;\n    }\n\n    .dataframe thead th {\n        text-align: right;\n    }\n</style>\n<table border=\"1\" class=\"dataframe\">\n  <thead>\n    <tr style=\"text-align: right;\">\n      <th></th>\n      <th>ID</th>\n      <th>Nazwa</th>\n      <th>Rzeka</th>\n      <th>Szerokość geograficzna</th>\n      <th>Długość geograficzna</th>\n      <th>Wysokość n.p.m.</th>\n    </tr>\n    <tr>\n      <th>LP.</th>\n      <th></th>\n      <th></th>\n      <th></th>\n      <th></th>\n      <th></th>\n      <th></th>\n    </tr>\n  </thead>\n  <tbody>\n    <tr>\n      <th>1</th>\n      <td>250180590</td>\n      <td>RYBNIK-STODOŁY</td>\n      <td>Ruda</td>\n      <td>50 09 16</td>\n      <td>18 28 59</td>\n      <td>216</td>\n    </tr>\n    <tr>\n      <th>2</th>\n      <td>254140010</td>\n      <td>DZIWNÓW</td>\n      <td>NaN</td>\n      <td>54 01 20</td>\n      <td>14 43 54</td>\n      <td>7</td>\n    </tr>\n    <tr>\n      <th>3</th>\n      <td>250160530</td>\n      <td>ZIELENIEC</td>\n      <td>Bystrzyca Dusznicka</td>\n      <td>50 19 48</td>\n      <td>16 23 39</td>\n      <td>840</td>\n    </tr>\n    <tr>\n      <th>4</th>\n      <td>250160630</td>\n      <td>MIĘDZYGÓRZE</td>\n      <td>Wilczka</td>\n      <td>50 13 06</td>\n      <td>16 46 23</td>\n      <td>800</td>\n    </tr>\n    <tr>\n      <th>5</th>\n      <td>250160650</td>\n      <td>MIĘDZYLESIE</td>\n      <td>Nysa Kłodzka</td>\n      <td>50 09 12</td>\n      <td>16 40 15</td>\n      <td>453</td>\n    </tr>\n    <tr>\n      <th>...</th>\n      <td>...</td>\n      <td>...</td>\n      <td>...</td>\n      <td>...</td>\n      <td>...</td>\n      <td>...</td>\n    </tr>\n    <tr>\n      <th>637</th>\n      <td>250140020</td>\n      <td>SIENIAWKA</td>\n      <td>Nysa Łużycka</td>\n      <td>50 53 38</td>\n      <td>14 50 08</td>\n      <td>234</td>\n    </tr>\n    <tr>\n      <th>638</th>\n      <td>250160920</td>\n      <td>PIŁAWA GÓRNA</td>\n      <td>Piława</td>\n      <td>50 41 22</td>\n      <td>16 43 57</td>\n      <td>295</td>\n    </tr>\n    <tr>\n      <th>639</th>\n      <td>249180590</td>\n      <td>RUPTAWA</td>\n      <td>Olza</td>\n      <td>49 56 12</td>\n      <td>18 35 22</td>\n      <td>230</td>\n    </tr>\n    <tr>\n      <th>640</th>\n      <td>250180760</td>\n      <td>STRZELCE OPOLSKIE</td>\n      <td>Mała Panew</td>\n      <td>50 31 04</td>\n      <td>18 18 40</td>\n      <td>229</td>\n    </tr>\n    <tr>\n      <th>641</th>\n      <td>252140120</td>\n      <td>BOCZÓW</td>\n      <td>Rzepia</td>\n      <td>52 19 29</td>\n      <td>14 56 56</td>\n      <td>80</td>\n    </tr>\n  </tbody>\n</table>\n<p>641 rows × 6 columns</p>\n</div>"
     },
     "execution_count": 3,
     "metadata": {},
     "output_type": "execute_result"
    }
   ],
   "source": [
    "data = pd.read_csv('Data/kody_stacji.csv', encoding='windows-1250',delimiter=\";\")    \n",
    "#Zwykłe kodowanie utf-8 nie działało --> po otwarciu pliku w Excelu można sprawdzić rodzaj kodowania \n",
    "data = data.set_index('LP.')   #ustawiam indeks \n",
    "data"
   ],
   "metadata": {
    "collapsed": false,
    "ExecuteTime": {
     "end_time": "2024-03-27T12:30:04.518077700Z",
     "start_time": "2024-03-27T12:30:00.954776100Z"
    }
   },
   "id": "215cfa1d29b66b04"
  },
  {
   "cell_type": "code",
   "execution_count": null,
   "outputs": [],
   "source": [],
   "metadata": {
    "collapsed": false
   },
   "id": "491bbc3d4b783ede"
  }
 ],
 "metadata": {
  "kernelspec": {
   "display_name": "Python 3",
   "language": "python",
   "name": "python3"
  },
  "language_info": {
   "codemirror_mode": {
    "name": "ipython",
    "version": 2
   },
   "file_extension": ".py",
   "mimetype": "text/x-python",
   "name": "python",
   "nbconvert_exporter": "python",
   "pygments_lexer": "ipython2",
   "version": "2.7.6"
  }
 },
 "nbformat": 4,
 "nbformat_minor": 5
}
